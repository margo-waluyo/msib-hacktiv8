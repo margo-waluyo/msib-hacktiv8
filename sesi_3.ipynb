{
 "cells": [
  {
   "attachments": {},
   "cell_type": "markdown",
   "metadata": {},
   "source": [
    "# Funtion"
   ]
  },
  {
   "attachments": {},
   "cell_type": "markdown",
   "metadata": {},
   "source": [
    "- return\n",
    "\n",
    "macma-macam variabel\n",
    "- local variabel\n",
    "- global variabel\n",
    "\n",
    "macam-macam argument function\n",
    "- required argument\n",
    "- positional argument\n",
    "- keyword argument\n",
    "\n",
    "- lambda\n",
    "\n",
    "- module"
   ]
  },
  {
   "cell_type": "markdown",
   "metadata": {},
   "source": []
  }
 ],
 "metadata": {
  "language_info": {
   "name": "python"
  },
  "orig_nbformat": 4
 },
 "nbformat": 4,
 "nbformat_minor": 2
}
